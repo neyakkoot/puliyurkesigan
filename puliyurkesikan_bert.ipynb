{
  "cells": [
    {
      "cell_type": "code",
      "execution_count": null,
      "metadata": {
        "id": "6Pf9rSZj-G6Y"
      },
      "outputs": [],
      "source": [
        "!pip3 install ktrain"
      ]
    },
    {
      "cell_type": "code",
      "execution_count": null,
      "metadata": {
        "id": "BrTNyBpl-WqP"
      },
      "outputs": [],
      "source": [
        "!pip install Open-Tamil"
      ]
    },
    {
      "cell_type": "code",
      "execution_count": 5,
      "metadata": {
        "id": "YfYP8m4gcby-"
      },
      "outputs": [],
      "source": [
        "import pandas as pd\n",
        "import numpy as np\n",
        "import seaborn as sns\n",
        "import tamil\n",
        "import matplotlib.pyplot as plt\n",
        "from sklearn.model_selection import train_test_split\n",
        "from sklearn.linear_model import LogisticRegression\n",
        "from sklearn.metrics import accuracy_score, confusion_matrix\n"
      ]
    },
    {
      "cell_type": "code",
      "execution_count": 6,
      "metadata": {
        "colab": {
          "base_uri": "https://localhost:8080/"
        },
        "id": "VXK5zW67djyt",
        "outputId": "37d21d9a-0309-455e-d973-285524431c2e"
      },
      "outputs": [
        {
          "output_type": "stream",
          "name": "stdout",
          "text": [
            "<class 'pandas.core.frame.DataFrame'>\n",
            "RangeIndex: 20 entries, 0 to 19\n",
            "Data columns (total 9 columns):\n",
            " #   Column      Non-Null Count  Dtype \n",
            "---  ------      --------------  ----- \n",
            " 0   S.No.       20 non-null     int64 \n",
            " 1   Name        20 non-null     object\n",
            " 2   Possition   20 non-null     object\n",
            " 3   Question 1  20 non-null     object\n",
            " 4   Question 2  20 non-null     object\n",
            " 5   Question 3  20 non-null     object\n",
            " 6   Question 4  20 non-null     object\n",
            " 7   Question 5  20 non-null     object\n",
            " 8   Question 6  20 non-null     object\n",
            "dtypes: int64(1), object(8)\n",
            "memory usage: 1.5+ KB\n",
            "None\n"
          ]
        }
      ],
      "source": [
        "bestwriter=pd.read_csv('puliyurkesikan_bert.csv')\n",
        "print(bestwriter.info())"
      ]
    },
    {
      "cell_type": "code",
      "source": [
        "bestwriter=pd.read_csv('puliyurkesikan_bert.csv')\n",
        "table=pd.DataFrame(bestwriter)\n",
        "print(table)"
      ],
      "metadata": {
        "colab": {
          "base_uri": "https://localhost:8080/"
        },
        "id": "ZeGcikafjZ0e",
        "outputId": "f3c2aa41-6c93-4492-9ba0-6f3add8c5b43"
      },
      "execution_count": 7,
      "outputs": [
        {
          "output_type": "stream",
          "name": "stdout",
          "text": [
            "    S.No.                         Name             Possition  \\\n",
            "0       1           முனைவர் ம.தமிழரசன்     உதவிப்பேராசிரியர்   \n",
            "1       2         முனைவர் சே.முனியசாமி     உதவிப்பேராசிரியர்   \n",
            "2       3              நா.உமா மகேஸ்வரி     உதவிப்பேராசிரியர்   \n",
            "3       4          முனைவர் கோ. சுகன்யா     உதவிப்பேராசிரியர்   \n",
            "4       5                   இரா.தியாகு     உதவிப்பேராசிரியர்   \n",
            "5       6      முனைவர் ரா.பிரேம்குமார்     உதவிப்பேராசிரியர்   \n",
            "6       7             முனைவர் ம.மைதிலி     உதவிப்பேராசிரியர்   \n",
            "7       8  முனைவ‌ர். சீ. பிரேம  குமாரி     உதவிப்பேராசிரியர்   \n",
            "8       9                மணிமேகலை ப. க     உதவிப்பேராசிரியர்   \n",
            "9      10         முனைவர் கா. கோகுலன்      உதவிப்பேராசிரியர்   \n",
            "10     11      முதுமுனைவர் மு.ஐயப்பன்.     உதவிப்பேராசிரியர்   \n",
            "11     12                 R. Sharmila      உதவிப்பேராசிரியர்   \n",
            "12     13        முனைவர் அ. முப்பாலிகை     உதவிப்பேராசிரியர்   \n",
            "13     14       முனைவர் ஞா விஜயகுமாரி      உதவிப்பேராசிரியர்   \n",
            "14     15   முனைவர் க. சத்தியமூர்த்தி      உதவிப்பேராசிரியர்   \n",
            "15     16                    A Eswaran     உதவிப்பேராசிரியர்   \n",
            "16     17               Annapoorani. C  முனைவர்பட்ட ஆய்வாளர்   \n",
            "17     18       முனைவர் ந.இராஜேந்திரன்     உதவிப்பேராசிரியர்   \n",
            "18     19        Dr A.Senthamizhselvi      உதவிப்பேராசிரியர்   \n",
            "19     20                 வா. காருண்யா     உதவிப்பேராசிரியர்   \n",
            "\n",
            "                Question 1              Question 2              Question 3  \\\n",
            "0     ச. திருஞான சம்பந்தம்    ச. திருஞான சம்பந்தம்    ச. திருஞான சம்பந்தம்   \n",
            "1     ச. திருஞான சம்பந்தம்                பழைய உரை                பழைய உரை   \n",
            "2   புலியூர்க் கேசிகன் உரை    ச. திருஞான சம்பந்தம்    ச. திருஞான சம்பந்தம்   \n",
            "3     ச. திருஞான சம்பந்தம்    ச. திருஞான சம்பந்தம்    ச. திருஞான சம்பந்தம்   \n",
            "4     ச. திருஞான சம்பந்தம்                பழைய உரை    ச. திருஞான சம்பந்தம்   \n",
            "5   புலியூர்க் கேசிகன் உரை  புலியூர்க் கேசிகன் உரை    ச. திருஞான சம்பந்தம்   \n",
            "6                 பழைய உரை                பழைய உரை                பழைய உரை   \n",
            "7   புலியூர்க் கேசிகன் உரை  புலியூர்க் கேசிகன் உரை  புலியூர்க் கேசிகன் உரை   \n",
            "8     ச. திருஞான சம்பந்தம்  புலியூர்க் கேசிகன் உரை    ச. திருஞான சம்பந்தம்   \n",
            "9     ச. திருஞான சம்பந்தம்    ச. திருஞான சம்பந்தம்    ச. திருஞான சம்பந்தம்   \n",
            "10    ச. திருஞான சம்பந்தம்    ச. திருஞான சம்பந்தம்    ச. திருஞான சம்பந்தம்   \n",
            "11    ச. திருஞான சம்பந்தம்    ச. திருஞான சம்பந்தம்    ச. திருஞான சம்பந்தம்   \n",
            "12    ச. திருஞான சம்பந்தம்  புலியூர்க் கேசிகன் உரை    ச. திருஞான சம்பந்தம்   \n",
            "13    ச. திருஞான சம்பந்தம்    ச. திருஞான சம்பந்தம்    ச. திருஞான சம்பந்தம்   \n",
            "14    ச. திருஞான சம்பந்தம்    ச. திருஞான சம்பந்தம்                பழைய உரை   \n",
            "15    ச. திருஞான சம்பந்தம்                பழைய உரை    ச. திருஞான சம்பந்தம்   \n",
            "16                பழைய உரை                பழைய உரை                பழைய உரை   \n",
            "17    ச. திருஞான சம்பந்தம்    ச. திருஞான சம்பந்தம்    ச. திருஞான சம்பந்தம்   \n",
            "18    ச. திருஞான சம்பந்தம்    ச. திருஞான சம்பந்தம்    ச. திருஞான சம்பந்தம்   \n",
            "19                பழைய உரை                பழைய உரை                பழைய உரை   \n",
            "\n",
            "                Question 4              Question 5              Question 6  \n",
            "0     ச. திருஞான சம்பந்தம்    ச. திருஞான சம்பந்தம்                பழைய உரை  \n",
            "1                 பழைய உரை    ச. திருஞான சம்பந்தம்                பழைய உரை  \n",
            "2     ச. திருஞான சம்பந்தம்    ச. திருஞான சம்பந்தம்                பழைய உரை  \n",
            "3     ச. திருஞான சம்பந்தம்    ச. திருஞான சம்பந்தம்                பழைய உரை  \n",
            "4     ச. திருஞான சம்பந்தம்    ச. திருஞான சம்பந்தம்                பழைய உரை  \n",
            "5   புலியூர்க் கேசிகன் உரை  புலியூர்க் கேசிகன் உரை                பழைய உரை  \n",
            "6                 பழைய உரை                பழைய உரை                பழைய உரை  \n",
            "7   புலியூர்க் கேசிகன் உரை  புலியூர்க் கேசிகன் உரை  புலியூர்க் கேசிகன் உரை  \n",
            "8     ச. திருஞான சம்பந்தம்    ச. திருஞான சம்பந்தம்                பழைய உரை  \n",
            "9     ச. திருஞான சம்பந்தம்    ச. திருஞான சம்பந்தம்                பழைய உரை  \n",
            "10    ச. திருஞான சம்பந்தம்    ச. திருஞான சம்பந்தம்                பழைய உரை  \n",
            "11    ச. திருஞான சம்பந்தம்    ச. திருஞான சம்பந்தம்                பழைய உரை  \n",
            "12    ச. திருஞான சம்பந்தம்    ச. திருஞான சம்பந்தம்                பழைய உரை  \n",
            "13    ச. திருஞான சம்பந்தம்    ச. திருஞான சம்பந்தம்    ச. திருஞான சம்பந்தம்  \n",
            "14    ச. திருஞான சம்பந்தம்    ச. திருஞான சம்பந்தம்    ச. திருஞான சம்பந்தம்  \n",
            "15    ச. திருஞான சம்பந்தம்    ச. திருஞான சம்பந்தம்                பழைய உரை  \n",
            "16                பழைய உரை                பழைய உரை                பழைய உரை  \n",
            "17    ச. திருஞான சம்பந்தம்    ச. திருஞான சம்பந்தம்                பழைய உரை  \n",
            "18    ச. திருஞான சம்பந்தம்    ச. திருஞான சம்பந்தம்                பழைய உரை  \n",
            "19                பழைய உரை                பழைய உரை                பழைய உரை  \n"
          ]
        }
      ]
    },
    {
      "cell_type": "code",
      "source": [
        "\n",
        "import pandas as pd\n",
        "import tamil\n",
        "import matplotlib.pyplot as plt\n",
        "from matplotlib.font_manager import FontProperties\n",
        "\n",
        "# Read the Excel file into a Pandas DataFrame\n",
        "data = pd.read_csv('puliyurkesikan_bert.csv')\n",
        "\n",
        "# Define different colors for the bars\n",
        "bar_colors = ['blue', 'green', 'red']\n",
        "\n",
        "# Iterate through each row in the DataFrame\n",
        "for index, row in data.iterrows():\n",
        "    question = row['Question']\n",
        "    answer_values = [row[\"ச. திருஞான சம்பந்தம்\"], row[\"பழைய உரை\"], row[\"புலியூர்க் கேசிகன் உரை\"]]\n",
        "    total = sum(answer_values)  # Calculate the total of values\n",
        "\n",
        "    # Create a new figure for each question\n",
        "    plt.figure()\n",
        "\n",
        "    # Create a bar chart for the current question\n",
        "    bars = plt.bar([\"ச. திருஞான சம்பந்தம்\", 'பழைய உரை', 'புலியூர்க் கேசிகன் உரை'], answer_values, color=bar_colors)\n",
        "\n",
        "    # Add labels and title\n",
        "    plt.xlabel('Answers')\n",
        "    plt.ylabel('Values')\n",
        "    plt.title(f'Question: {question}')\n",
        "\n",
        "    # Set tick labels with rotation\n",
        "    plt.xticks(rotation=45, ha='right')\n",
        "\n",
        "    # Add legend\n",
        "    ax = plt.gca()\n",
        "    ax.legend(handles=bars, labels=[\"ச. திருஞான சம்பந்தம்\", 'பழைய உரை', 'புலியூர்க் கேசிகன் உரை'])\n",
        "\n",
        "    # Add percentage values within the bars\n",
        "    for bar in bars:\n",
        "        yval = bar.get_height()\n",
        "        plt.text(bar.get_x() + bar.get_width()/2, yval/2, f'{yval/total*100:.1f}%', ha='center', va='center', color='white')\n",
        "\n",
        "    plt.tight_layout()\n",
        "    plt.show()"
      ],
      "metadata": {
        "id": "wmJxyH-lXDUg"
      },
      "execution_count": null,
      "outputs": []
    },
    {
      "cell_type": "code",
      "source": [
        "#seaborn\n",
        "import seaborn as sns\n",
        "import matplotlib.pyplot as plt\n",
        "# Import seaborn objects\n",
        "# Import seaborn objects\n",
        "from .rcmod import *  # noqa: F401,F403\n",
        "from .utils import *  # noqa: F401,F403\n",
        "from .palettes import *  # noqa: F401,F403\n",
        "from .relational import *  # noqa: F401,F403\n",
        "from .regression import *  # noqa: F401,F403\n",
        "from .categorical import *  # noqa: F401,F403\n",
        "from .distributions import *  # noqa: F401,F403\n",
        "from .matrix import *  # noqa: F401,F403\n",
        "from .miscplot import *  # noqa: F401,F403\n",
        "from .axisgrid import *  # noqa: F401,F403\n",
        "from .widgets import *  # noqa: F401,F403\n",
        "from .colors import xkcd_rgb, crayons  # noqa: F401\n",
        "from . import cm  # noqa: F401\n",
        "bestwriter=pd.read_csv('puliyurkesikan_bert.csv')\n",
        "table1=sns.distplot(bestwriter)\n",
        "plt.show()"
      ],
      "metadata": {
        "colab": {
          "base_uri": "https://localhost:8080/",
          "height": 383
        },
        "id": "m2c-f7xPthYv",
        "outputId": "dd17ddcb-a896-401a-a26b-f3884185cc52"
      },
      "execution_count": null,
      "outputs": [
        {
          "output_type": "error",
          "ename": "ImportError",
          "evalue": "ignored",
          "traceback": [
            "\u001b[0;31m---------------------------------------------------------------------------\u001b[0m",
            "\u001b[0;31mImportError\u001b[0m                               Traceback (most recent call last)",
            "\u001b[0;32m<ipython-input-15-d5599b5076f7>\u001b[0m in \u001b[0;36m<cell line: 5>\u001b[0;34m()\u001b[0m\n\u001b[1;32m      3\u001b[0m \u001b[0;32mimport\u001b[0m \u001b[0mmatplotlib\u001b[0m\u001b[0;34m.\u001b[0m\u001b[0mpyplot\u001b[0m \u001b[0;32mas\u001b[0m \u001b[0mplt\u001b[0m\u001b[0;34m\u001b[0m\u001b[0;34m\u001b[0m\u001b[0m\n\u001b[1;32m      4\u001b[0m \u001b[0;31m# Import seaborn objects\u001b[0m\u001b[0;34m\u001b[0m\u001b[0;34m\u001b[0m\u001b[0m\n\u001b[0;32m----> 5\u001b[0;31m \u001b[0;32mfrom\u001b[0m \u001b[0;34m.\u001b[0m\u001b[0mutils\u001b[0m \u001b[0;32mimport\u001b[0m \u001b[0;34m*\u001b[0m  \u001b[0;31m# noqa: F401,F403\u001b[0m\u001b[0;34m\u001b[0m\u001b[0;34m\u001b[0m\u001b[0m\n\u001b[0m\u001b[1;32m      6\u001b[0m \u001b[0;32mfrom\u001b[0m \u001b[0;34m.\u001b[0m\u001b[0mpalettes\u001b[0m \u001b[0;32mimport\u001b[0m \u001b[0;34m*\u001b[0m  \u001b[0;31m# noqa: F401,F403\u001b[0m\u001b[0;34m\u001b[0m\u001b[0;34m\u001b[0m\u001b[0m\n\u001b[1;32m      7\u001b[0m \u001b[0;32mfrom\u001b[0m \u001b[0;34m.\u001b[0m\u001b[0mrelational\u001b[0m \u001b[0;32mimport\u001b[0m \u001b[0;34m*\u001b[0m  \u001b[0;31m# noqa: F401,F403\u001b[0m\u001b[0;34m\u001b[0m\u001b[0;34m\u001b[0m\u001b[0m\n",
            "\u001b[0;31mImportError\u001b[0m: attempted relative import with no known parent package",
            "",
            "\u001b[0;31m---------------------------------------------------------------------------\u001b[0;32m\nNOTE: If your import is failing due to a missing package, you can\nmanually install dependencies using either !pip or !apt.\n\nTo view examples of installing some common dependencies, click the\n\"Open Examples\" button below.\n\u001b[0;31m---------------------------------------------------------------------------\u001b[0m\n"
          ],
          "errorDetails": {
            "actions": [
              {
                "action": "open_url",
                "actionText": "Open Examples",
                "url": "/notebooks/snippets/importing_libraries.ipynb"
              }
            ]
          }
        }
      ]
    },
    {
      "cell_type": "code",
      "execution_count": null,
      "metadata": {
        "colab": {
          "base_uri": "https://localhost:8080/",
          "height": 472
        },
        "id": "qlXBNNKGwFB6",
        "outputId": "aadcdf87-e9a2-4b9e-ed05-7f8b57476a06"
      },
      "outputs": [
        {
          "data": {
            "image/png": "[encoded data removed]",
            "text/plain": [
              "<Figure size 640x480 with 1 Axes>"
            ]
          },
          "metadata": {},
          "output_type": "display_data"
        }
      ],
      "source": [
        "import matplotlib.pyplot as plt\n",
        "import tamil\n",
        "#bestwriter=pd.read_csv('puliyurkesikan_bert.csv')\n",
        "# Sample data\n",
        "categories = ['Question1', 'Question2', 'Question3', 'Question4', 'Question5', 'Question6']\n",
        "values = [10, 20, 30, 50, 60, 70]\n",
        "#values = ['பழைய உரை', 'புலியூர்க் கேசிகன் உரை', 'ச. திருஞான சம்பந்தம்']\n",
        "\n",
        "# Create a bar chart\n",
        "plt.bar(categories, values)\n",
        "\n",
        "# Add labels and title\n",
        "plt.xlabel('Categories')\n",
        "plt.ylabel('Values')\n",
        "plt.title('Bar Chart Example')\n",
        "\n",
        "# Display the plot\n",
        "plt.show()\n"
      ]
    },
    {
      "cell_type": "code",
      "execution_count": null,
      "metadata": {
        "colab": {
          "background_save": true,
          "base_uri": "https://localhost:8080/",
          "height": 436
        },
        "id": "NEvNbCfG9PlQ",
        "outputId": "8f580e39-89a8-482e-dbe9-0f9cbe808bce"
      },
      "outputs": [
        {
          "name": "stdout",
          "output_type": "stream",
          "text": [
            "Requirement already satisfied: ktrain in /usr/local/lib/python3.10/dist-packages (0.37.6)\n",
            "Requirement already satisfied: scikit-learn in /usr/local/lib/python3.10/dist-packages (from ktrain) (1.2.2)\n",
            "Requirement already satisfied: matplotlib>=3.0.0 in /usr/local/lib/python3.10/dist-packages (from ktrain) (3.7.1)\n",
            "Requirement already satisfied: pandas>=1.0.1 in /usr/local/lib/python3.10/dist-packages (from ktrain) (1.5.3)\n",
            "Requirement already satisfied: fastprogress>=0.1.21 in /usr/local/lib/python3.10/dist-packages (from ktrain) (1.0.3)\n",
            "Requirement already satisfied: requests in /usr/local/lib/python3.10/dist-packages (from ktrain) (2.31.0)\n",
            "Requirement already satisfied: joblib in /usr/local/lib/python3.10/dist-packages (from ktrain) (1.3.2)\n",
            "Requirement already satisfied: packaging in /usr/local/lib/python3.10/dist-packages (from ktrain) (23.1)\n",
            "Requirement already satisfied: langdetect in /usr/local/lib/python3.10/dist-packages (from ktrain) (1.0.9)\n",
            "Requirement already satisfied: jieba in /usr/local/lib/python3.10/dist-packages (from ktrain) (0.42.1)\n",
            "Requirement already satisfied: cchardet in /usr/local/lib/python3.10/dist-packages (from ktrain) (2.1.7)\n",
            "Requirement already satisfied: chardet in /usr/local/lib/python3.10/dist-packages (from ktrain) (5.2.0)\n",
            "Requirement already satisfied: syntok>1.3.3 in /usr/local/lib/python3.10/dist-packages (from ktrain) (1.4.4)\n",
            "Requirement already satisfied: tika in /usr/local/lib/python3.10/dist-packages (from ktrain) (2.6.0)\n",
            "Requirement already satisfied: transformers>=4.17.0 in /usr/local/lib/python3.10/dist-packages (from ktrain) (4.32.1)\n",
            "Requirement already satisfied: sentencepiece in /usr/local/lib/python3.10/dist-packages (from ktrain) (0.1.99)\n",
            "Requirement already satisfied: keras-bert>=0.86.0 in /usr/local/lib/python3.10/dist-packages (from ktrain) (0.89.0)\n",
            "Requirement already satisfied: whoosh in /usr/local/lib/python3.10/dist-packages (from ktrain) (2.7.4)\n",
            "Requirement already satisfied: numpy in /usr/local/lib/python3.10/dist-packages (from keras-bert>=0.86.0->ktrain) (1.23.5)\n",
            "Requirement already satisfied: keras-transformer==0.40.0 in /usr/local/lib/python3.10/dist-packages (from keras-bert>=0.86.0->ktrain) (0.40.0)\n",
            "Requirement already satisfied: keras-pos-embd==0.13.0 in /usr/local/lib/python3.10/dist-packages (from keras-transformer==0.40.0->keras-bert>=0.86.0->ktrain) (0.13.0)\n",
            "Requirement already satisfied: keras-multi-head==0.29.0 in /usr/local/lib/python3.10/dist-packages (from keras-transformer==0.40.0->keras-bert>=0.86.0->ktrain) (0.29.0)\n",
            "Requirement already satisfied: keras-layer-normalization==0.16.0 in /usr/local/lib/python3.10/dist-packages (from keras-transformer==0.40.0->keras-bert>=0.86.0->ktrain) (0.16.0)\n",
            "Requirement already satisfied: keras-position-wise-feed-forward==0.8.0 in /usr/local/lib/python3.10/dist-packages (from keras-transformer==0.40.0->keras-bert>=0.86.0->ktrain) (0.8.0)\n",
            "Requirement already satisfied: keras-embed-sim==0.10.0 in /usr/local/lib/python3.10/dist-packages (from keras-transformer==0.40.0->keras-bert>=0.86.0->ktrain) (0.10.0)\n",
            "Requirement already satisfied: keras-self-attention==0.51.0 in /usr/local/lib/python3.10/dist-packages (from keras-multi-head==0.29.0->keras-transformer==0.40.0->keras-bert>=0.86.0->ktrain) (0.51.0)\n",
            "Requirement already satisfied: contourpy>=1.0.1 in /usr/local/lib/python3.10/dist-packages (from matplotlib>=3.0.0->ktrain) (1.1.0)\n",
            "Requirement already satisfied: cycler>=0.10 in /usr/local/lib/python3.10/dist-packages (from matplotlib>=3.0.0->ktrain) (0.11.0)\n",
            "Requirement already satisfied: fonttools>=4.22.0 in /usr/local/lib/python3.10/dist-packages (from matplotlib>=3.0.0->ktrain) (4.42.1)\n",
            "Requirement already satisfied: kiwisolver>=1.0.1 in /usr/local/lib/python3.10/dist-packages (from matplotlib>=3.0.0->ktrain) (1.4.4)\n",
            "Requirement already satisfied: pillow>=6.2.0 in /usr/local/lib/python3.10/dist-packages (from matplotlib>=3.0.0->ktrain) (9.4.0)\n",
            "Requirement already satisfied: pyparsing>=2.3.1 in /usr/local/lib/python3.10/dist-packages (from matplotlib>=3.0.0->ktrain) (3.1.1)\n",
            "Requirement already satisfied: python-dateutil>=2.7 in /usr/local/lib/python3.10/dist-packages (from matplotlib>=3.0.0->ktrain) (2.8.2)\n",
            "Requirement already satisfied: pytz>=2020.1 in /usr/local/lib/python3.10/dist-packages (from pandas>=1.0.1->ktrain) (2023.3)\n",
            "Requirement already satisfied: regex>2016 in /usr/local/lib/python3.10/dist-packages (from syntok>1.3.3->ktrain) (2023.6.3)\n",
            "Requirement already satisfied: filelock in /usr/local/lib/python3.10/dist-packages (from transformers>=4.17.0->ktrain) (3.12.2)\n",
            "Requirement already satisfied: huggingface-hub<1.0,>=0.15.1 in /usr/local/lib/python3.10/dist-packages (from transformers>=4.17.0->ktrain) (0.16.4)\n",
            "Requirement already satisfied: pyyaml>=5.1 in /usr/local/lib/python3.10/dist-packages (from transformers>=4.17.0->ktrain) (6.0.1)\n",
            "Requirement already satisfied: tokenizers!=0.11.3,<0.14,>=0.11.1 in /usr/local/lib/python3.10/dist-packages (from transformers>=4.17.0->ktrain) (0.13.3)\n",
            "Requirement already satisfied: safetensors>=0.3.1 in /usr/local/lib/python3.10/dist-packages (from transformers>=4.17.0->ktrain) (0.3.3)\n",
            "Requirement already satisfied: tqdm>=4.27 in /usr/local/lib/python3.10/dist-packages (from transformers>=4.17.0->ktrain) (4.66.1)\n",
            "Requirement already satisfied: six in /usr/local/lib/python3.10/dist-packages (from langdetect->ktrain) (1.16.0)\n",
            "Requirement already satisfied: charset-normalizer<4,>=2 in /usr/local/lib/python3.10/dist-packages (from requests->ktrain) (3.2.0)\n",
            "Requirement already satisfied: idna<4,>=2.5 in /usr/local/lib/python3.10/dist-packages (from requests->ktrain) (3.4)\n",
            "Requirement already satisfied: urllib3<3,>=1.21.1 in /usr/local/lib/python3.10/dist-packages (from requests->ktrain) (2.0.4)\n",
            "Requirement already satisfied: certifi>=2017.4.17 in /usr/local/lib/python3.10/dist-packages (from requests->ktrain) (2023.7.22)\n",
            "Requirement already satisfied: scipy>=1.3.2 in /usr/local/lib/python3.10/dist-packages (from scikit-learn->ktrain) (1.10.1)\n",
            "Requirement already satisfied: threadpoolctl>=2.0.0 in /usr/local/lib/python3.10/dist-packages (from scikit-learn->ktrain) (3.2.0)\n",
            "Requirement already satisfied: setuptools in /usr/local/lib/python3.10/dist-packages (from tika->ktrain) (67.7.2)\n",
            "Requirement already satisfied: fsspec in /usr/local/lib/python3.10/dist-packages (from huggingface-hub<1.0,>=0.15.1->transformers>=4.17.0->ktrain) (2023.6.0)\n",
            "Requirement already satisfied: typing-extensions>=3.7.4.3 in /usr/local/lib/python3.10/dist-packages (from huggingface-hub<1.0,>=0.15.1->transformers>=4.17.0->ktrain) (4.7.1)\n",
            "Downloading data from http://ai.stanford.edu/~amaas/data/sentiment/aclImdb_v1.tar.gz\n",
            "84125825/84125825 [==============================] - 9s 0us/step\n",
            "/root/.keras/datasets\n",
            "/root/.keras/datasets/aclImdb\n",
            "detected encoding: utf-8\n",
            "downloading pretrained BERT model (uncased_L-12_H-768_A-12.zip)...\n",
            "[██████████████████████████████████████████████████]\n",
            "extracting pretrained BERT model...\n",
            "done.\n",
            "\n",
            "cleanup downloaded zip...\n",
            "done.\n",
            "\n",
            "preprocessing train...\n",
            "language: en\n"
          ]
        },
        {
          "data": {
            "text/html": [
              "\n",
              "<style>\n",
              "    /* Turns off some styling */\n",
              "    progress {\n",
              "        /* gets rid of default border in Firefox and Opera. */\n",
              "        border: none;\n",
              "        /* Needs to be in here for Safari polyfill so background images work as expected. */\n",
              "        background-size: auto;\n",
              "    }\n",
              "    progress:not([value]), progress:not([value])::-webkit-progress-bar {\n",
              "        background: repeating-linear-gradient(45deg, #7e7e7e, #7e7e7e 10px, #5c5c5c 10px, #5c5c5c 20px);\n",
              "    }\n",
              "    .progress-bar-interrupted, .progress-bar-interrupted::-webkit-progress-bar {\n",
              "        background: #F44336;\n",
              "    }\n",
              "</style>\n"
            ],
            "text/plain": [
              "<IPython.core.display.HTML object>"
            ]
          },
          "metadata": {},
          "output_type": "display_data"
        },
        {
          "data": {
            "text/html": [
              "done."
            ],
            "text/plain": [
              "<IPython.core.display.HTML object>"
            ]
          },
          "metadata": {},
          "output_type": "display_data"
        },
        {
          "name": "stdout",
          "output_type": "stream",
          "text": [
            "Is Multi-Label? False\n",
            "preprocessing test...\n",
            "language: en\n"
          ]
        },
        {
          "data": {
            "text/html": [
              "\n",
              "<style>\n",
              "    /* Turns off some styling */\n",
              "    progress {\n",
              "        /* gets rid of default border in Firefox and Opera. */\n",
              "        border: none;\n",
              "        /* Needs to be in here for Safari polyfill so background images work as expected. */\n",
              "        background-size: auto;\n",
              "    }\n",
              "    progress:not([value]), progress:not([value])::-webkit-progress-bar {\n",
              "        background: repeating-linear-gradient(45deg, #7e7e7e, #7e7e7e 10px, #5c5c5c 10px, #5c5c5c 20px);\n",
              "    }\n",
              "    .progress-bar-interrupted, .progress-bar-interrupted::-webkit-progress-bar {\n",
              "        background: #F44336;\n",
              "    }\n",
              "</style>\n"
            ],
            "text/plain": [
              "<IPython.core.display.HTML object>"
            ]
          },
          "metadata": {},
          "output_type": "display_data"
        },
        {
          "data": {
            "text/html": [
              "done."
            ],
            "text/plain": [
              "<IPython.core.display.HTML object>"
            ]
          },
          "metadata": {},
          "output_type": "display_data"
        },
        {
          "name": "stdout",
          "output_type": "stream",
          "text": [
            "Is Multi-Label? False\n",
            "maxlen is 500\n"
          ]
        },
        {
          "name": "stderr",
          "output_type": "stream",
          "text": [
            "/usr/local/lib/python3.10/dist-packages/keras/initializers/initializers.py:120: UserWarning: The initializer GlorotNormal is unseeded and being called multiple times, which will return identical values each time (even if the initializer is unseeded). Please update your code to provide a seed to the initializer, or avoid using the same initalizer instance more than once.\n",
            "  warnings.warn(\n"
          ]
        },
        {
          "name": "stdout",
          "output_type": "stream",
          "text": [
            "done.\n",
            "\n",
            "\n",
            "begin training using onecycle policy with max lr of 2e-05...\n",
            "  70/4167 [..............................] - ETA: 52:05:10 - loss: 0.6959 - accuracy: 0.5595"
          ]
        }
      ],
      "source": [
        "import os.path\n",
        "import numpy as np\n",
        "import tensorflow as tf\n",
        "import ktrain\n",
        "from ktrain import text\n",
        "\n",
        "dataset = tf.keras.utils.get_file(fname=\"aclImdb_v1.tar.gz\",\n",
        "                                  origin=\"http://ai.stanford.edu/~amaas/data/sentiment/aclImdb_v1.tar.gz\",\n",
        "                                  extract=True)\n",
        "IMDB_DATADIR = os.path.join(os.path.dirname(dataset), 'aclImdb')\n",
        "\n",
        "print(os.path.dirname(dataset))\n",
        "print(IMDB_DATADIR)\n",
        "\n",
        "\"\"\"### Creating the training and test sets\"\"\"\n",
        "\n",
        "(x_train, y_train), (x_test, y_test), preproc = text.texts_from_folder(datadir=IMDB_DATADIR,\n",
        "                                                                       classes=['pos','neg'],\n",
        "                                                                       maxlen=500,\n",
        "                                                                       train_test_names=['train','test'],\n",
        "                                                                       preprocess_mode='bert')\n",
        "\n",
        "\"\"\"## Part 2: Building the BERT model\"\"\"\n",
        "\n",
        "model = text.text_classifier(name='bert',\n",
        "                             train_data=(x_train, y_train),\n",
        "                             preproc=preproc)\n",
        "\n",
        "\"\"\"## Part 3: Training the BERT model\"\"\"\n",
        "\n",
        "learner = ktrain.get_learner(model=model,\n",
        "                             train_data=(x_train, y_train),\n",
        "                             val_data=(x_test, y_test),\n",
        "                             batch_size=6)\n",
        "\n",
        "learner.fit_onecycle(lr=2e-5,\n",
        "                     epochs=1)"
      ]
    },
    {
      "cell_type": "code",
      "execution_count": null,
      "metadata": {
        "id": "8RGS9HCU6iVP"
      },
      "outputs": [],
      "source": []
    },
    {
      "cell_type": "code",
      "execution_count": null,
      "metadata": {
        "colab": {
          "base_uri": "https://localhost:8080/",
          "height": 489
        },
        "id": "9b3R8fNiensc",
        "outputId": "9d17b8e7-7dc4-4c38-8e27-4ca1951325eb"
      },
      "outputs": [
        {
          "data": {
            "image/png": "[encoded data removed]",
            "text/plain": [
              "<Figure size 640x480 with 1 Axes>"
            ]
          },
          "metadata": {},
          "output_type": "display_data"
        },
        {
          "data": {
            "text/plain": [
              "<Figure size 640x480 with 0 Axes>"
            ]
          },
          "metadata": {},
          "output_type": "display_data"
        }
      ],
      "source": [
        "#import matplotlib.pyplot as plt\n",
        "\n",
        "# Sample data\n",
        "x = [1, 2, 3, 4, 5]\n",
        "y = [10, 15, 7, 12, 9]\n",
        "\n",
        "# Create a line plot\n",
        "plt.plot(x, y, label='Data')\n",
        "plt.xlabel('X-axis')\n",
        "plt.ylabel('Y-axis')\n",
        "plt.title('Sample Line Plot')\n",
        "plt.legend()\n",
        "\n",
        "# Display the plot or save it\n",
        "plt.show()  # To display the plot\n",
        "# or\n",
        "plt.savefig('output.png')  # To save the plot as an image file\n"
      ]
    },
    {
      "cell_type": "code",
      "execution_count": null,
      "metadata": {
        "id": "SouUPxUg9q0c"
      },
      "outputs": [],
      "source": []
    }
  ],
  "metadata": {
    "colab": {
      "provenance": []
    },
    "kernelspec": {
      "display_name": "Python 3",
      "name": "python3"
    },
    "language_info": {
      "name": "python"
    }
  },
  "nbformat": 4,
  "nbformat_minor": 0
}